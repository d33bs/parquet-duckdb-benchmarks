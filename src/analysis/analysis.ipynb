{
 "cells": [
  {
   "cell_type": "code",
   "execution_count": 5,
   "metadata": {},
   "outputs": [
    {
     "data": {
      "text/html": [
       "<div>\n",
       "<style scoped>\n",
       "    .dataframe tbody tr th:only-of-type {\n",
       "        vertical-align: middle;\n",
       "    }\n",
       "\n",
       "    .dataframe tbody tr th {\n",
       "        vertical-align: top;\n",
       "    }\n",
       "\n",
       "    .dataframe thead th {\n",
       "        text-align: right;\n",
       "    }\n",
       "</style>\n",
       "<table border=\"1\" class=\"dataframe\">\n",
       "  <thead>\n",
       "    <tr style=\"text-align: right;\">\n",
       "      <th></th>\n",
       "      <th>file</th>\n",
       "      <th>total_bytes_allocated</th>\n",
       "      <th>start_time</th>\n",
       "      <th>end_time</th>\n",
       "      <th>total_allocations</th>\n",
       "      <th>total_frames</th>\n",
       "      <th>peak_memory</th>\n",
       "      <th>command_line</th>\n",
       "      <th>pid</th>\n",
       "      <th>main_thread_id</th>\n",
       "      <th>python_allocator</th>\n",
       "      <th>has_native_traces</th>\n",
       "      <th>trace_python_allocators</th>\n",
       "      <th>file_format</th>\n",
       "      <th>time_duration</th>\n",
       "    </tr>\n",
       "  </thead>\n",
       "  <tbody>\n",
       "    <tr>\n",
       "      <th>0</th>\n",
       "      <td>sorted_join_datasets.json</td>\n",
       "      <td>179698990460</td>\n",
       "      <td>2024-07-05 19:22:49.192000+00:00</td>\n",
       "      <td>2024-07-05 19:23:09.420000+00:00</td>\n",
       "      <td>15126274</td>\n",
       "      <td>769</td>\n",
       "      <td>171014240839</td>\n",
       "      <td>/home/codespace/.cache/pypoetry/virtualenvs/pa...</td>\n",
       "      <td>21166</td>\n",
       "      <td>1</td>\n",
       "      <td>pymalloc</td>\n",
       "      <td>False</td>\n",
       "      <td>False</td>\n",
       "      <td>0</td>\n",
       "      <td>20.228</td>\n",
       "    </tr>\n",
       "    <tr>\n",
       "      <th>0</th>\n",
       "      <td>join_datasets_with_page_index.json</td>\n",
       "      <td>182127957045</td>\n",
       "      <td>2024-07-05 19:20:53.426000+00:00</td>\n",
       "      <td>2024-07-05 19:21:22.243000+00:00</td>\n",
       "      <td>19547865</td>\n",
       "      <td>774</td>\n",
       "      <td>171196950499</td>\n",
       "      <td>/home/codespace/.cache/pypoetry/virtualenvs/pa...</td>\n",
       "      <td>20290</td>\n",
       "      <td>1</td>\n",
       "      <td>pymalloc</td>\n",
       "      <td>False</td>\n",
       "      <td>False</td>\n",
       "      <td>0</td>\n",
       "      <td>28.817</td>\n",
       "    </tr>\n",
       "    <tr>\n",
       "      <th>0</th>\n",
       "      <td>sorted_join_tables_with_page_index.json</td>\n",
       "      <td>179759100190</td>\n",
       "      <td>2024-07-05 19:23:10.053000+00:00</td>\n",
       "      <td>2024-07-05 19:23:30.627000+00:00</td>\n",
       "      <td>24304681</td>\n",
       "      <td>771</td>\n",
       "      <td>170612537623</td>\n",
       "      <td>/home/codespace/.cache/pypoetry/virtualenvs/pa...</td>\n",
       "      <td>21331</td>\n",
       "      <td>1</td>\n",
       "      <td>pymalloc</td>\n",
       "      <td>False</td>\n",
       "      <td>False</td>\n",
       "      <td>0</td>\n",
       "      <td>20.574</td>\n",
       "    </tr>\n",
       "    <tr>\n",
       "      <th>0</th>\n",
       "      <td>sorted_join_datasets_byte_stream_split_zstd.json</td>\n",
       "      <td>199100376899</td>\n",
       "      <td>2024-07-05 19:24:59.913000+00:00</td>\n",
       "      <td>2024-07-05 19:25:22.248000+00:00</td>\n",
       "      <td>15332596</td>\n",
       "      <td>774</td>\n",
       "      <td>171122988639</td>\n",
       "      <td>/home/codespace/.cache/pypoetry/virtualenvs/pa...</td>\n",
       "      <td>22178</td>\n",
       "      <td>1</td>\n",
       "      <td>pymalloc</td>\n",
       "      <td>False</td>\n",
       "      <td>False</td>\n",
       "      <td>0</td>\n",
       "      <td>22.335</td>\n",
       "    </tr>\n",
       "    <tr>\n",
       "      <th>0</th>\n",
       "      <td>sorted_join_datasets_zstd_with_page_index.json</td>\n",
       "      <td>215363726983</td>\n",
       "      <td>2024-07-05 19:25:45.712000+00:00</td>\n",
       "      <td>2024-07-05 19:26:19.379000+00:00</td>\n",
       "      <td>20299956</td>\n",
       "      <td>774</td>\n",
       "      <td>171025285707</td>\n",
       "      <td>/home/codespace/.cache/pypoetry/virtualenvs/pa...</td>\n",
       "      <td>22556</td>\n",
       "      <td>1</td>\n",
       "      <td>pymalloc</td>\n",
       "      <td>False</td>\n",
       "      <td>False</td>\n",
       "      <td>0</td>\n",
       "      <td>33.667</td>\n",
       "    </tr>\n",
       "    <tr>\n",
       "      <th>0</th>\n",
       "      <td>sorted_join_datasets_with_page_index.json</td>\n",
       "      <td>183146661653</td>\n",
       "      <td>2024-07-05 19:22:18.666000+00:00</td>\n",
       "      <td>2024-07-05 19:22:48.497000+00:00</td>\n",
       "      <td>20123899</td>\n",
       "      <td>768</td>\n",
       "      <td>170890117067</td>\n",
       "      <td>/home/codespace/.cache/pypoetry/virtualenvs/pa...</td>\n",
       "      <td>20943</td>\n",
       "      <td>1</td>\n",
       "      <td>pymalloc</td>\n",
       "      <td>False</td>\n",
       "      <td>False</td>\n",
       "      <td>0</td>\n",
       "      <td>29.831</td>\n",
       "    </tr>\n",
       "    <tr>\n",
       "      <th>0</th>\n",
       "      <td>sorted_join_datasets_zstd.json</td>\n",
       "      <td>199498662439</td>\n",
       "      <td>2024-07-05 19:26:20.117000+00:00</td>\n",
       "      <td>2024-07-05 19:26:42.262000+00:00</td>\n",
       "      <td>15720218</td>\n",
       "      <td>770</td>\n",
       "      <td>170973731399</td>\n",
       "      <td>/home/codespace/.cache/pypoetry/virtualenvs/pa...</td>\n",
       "      <td>22830</td>\n",
       "      <td>1</td>\n",
       "      <td>pymalloc</td>\n",
       "      <td>False</td>\n",
       "      <td>False</td>\n",
       "      <td>0</td>\n",
       "      <td>22.145</td>\n",
       "    </tr>\n",
       "    <tr>\n",
       "      <th>0</th>\n",
       "      <td>join_datasets.json</td>\n",
       "      <td>179160568837</td>\n",
       "      <td>2024-07-05 19:21:23.197000+00:00</td>\n",
       "      <td>2024-07-05 19:21:43.652000+00:00</td>\n",
       "      <td>15011311</td>\n",
       "      <td>773</td>\n",
       "      <td>170931153887</td>\n",
       "      <td>/home/codespace/.cache/pypoetry/virtualenvs/pa...</td>\n",
       "      <td>20494</td>\n",
       "      <td>1</td>\n",
       "      <td>pymalloc</td>\n",
       "      <td>False</td>\n",
       "      <td>False</td>\n",
       "      <td>0</td>\n",
       "      <td>20.455</td>\n",
       "    </tr>\n",
       "    <tr>\n",
       "      <th>0</th>\n",
       "      <td>inner_sorted_join_datasets_byte_stream_split.json</td>\n",
       "      <td>181788411234</td>\n",
       "      <td>2024-07-05 19:28:16.987000+00:00</td>\n",
       "      <td>2024-07-05 19:28:40.081000+00:00</td>\n",
       "      <td>14922796</td>\n",
       "      <td>769</td>\n",
       "      <td>170842680359</td>\n",
       "      <td>/home/codespace/.cache/pypoetry/virtualenvs/pa...</td>\n",
       "      <td>23769</td>\n",
       "      <td>1</td>\n",
       "      <td>pymalloc</td>\n",
       "      <td>False</td>\n",
       "      <td>False</td>\n",
       "      <td>0</td>\n",
       "      <td>23.094</td>\n",
       "    </tr>\n",
       "    <tr>\n",
       "      <th>0</th>\n",
       "      <td>sorted_join_datasets_byte_stream_split_zstd_wi...</td>\n",
       "      <td>215622005411</td>\n",
       "      <td>2024-07-05 19:24:26.418000+00:00</td>\n",
       "      <td>2024-07-05 19:24:59.156000+00:00</td>\n",
       "      <td>20518970</td>\n",
       "      <td>774</td>\n",
       "      <td>170924462667</td>\n",
       "      <td>/home/codespace/.cache/pypoetry/virtualenvs/pa...</td>\n",
       "      <td>21919</td>\n",
       "      <td>1</td>\n",
       "      <td>pymalloc</td>\n",
       "      <td>False</td>\n",
       "      <td>False</td>\n",
       "      <td>0</td>\n",
       "      <td>32.738</td>\n",
       "    </tr>\n",
       "    <tr>\n",
       "      <th>0</th>\n",
       "      <td>inner_sorted_join_datasets_lz4.json</td>\n",
       "      <td>181823339789</td>\n",
       "      <td>2024-07-05 19:27:54+00:00</td>\n",
       "      <td>2024-07-05 19:28:16.235000+00:00</td>\n",
       "      <td>14925865</td>\n",
       "      <td>769</td>\n",
       "      <td>170917904719</td>\n",
       "      <td>/home/codespace/.cache/pypoetry/virtualenvs/pa...</td>\n",
       "      <td>23594</td>\n",
       "      <td>1</td>\n",
       "      <td>pymalloc</td>\n",
       "      <td>False</td>\n",
       "      <td>False</td>\n",
       "      <td>0</td>\n",
       "      <td>NaN</td>\n",
       "    </tr>\n",
       "    <tr>\n",
       "      <th>0</th>\n",
       "      <td>sorted_join_datasets_byte_stream_split_with_pa...</td>\n",
       "      <td>183663129578</td>\n",
       "      <td>2024-07-05 19:23:52.892000+00:00</td>\n",
       "      <td>2024-07-05 19:24:25.582000+00:00</td>\n",
       "      <td>19601019</td>\n",
       "      <td>773</td>\n",
       "      <td>170808894027</td>\n",
       "      <td>/home/codespace/.cache/pypoetry/virtualenvs/pa...</td>\n",
       "      <td>21686</td>\n",
       "      <td>1</td>\n",
       "      <td>pymalloc</td>\n",
       "      <td>False</td>\n",
       "      <td>False</td>\n",
       "      <td>0</td>\n",
       "      <td>32.690</td>\n",
       "    </tr>\n",
       "    <tr>\n",
       "      <th>0</th>\n",
       "      <td>sorted_join_tables.json</td>\n",
       "      <td>179742944163</td>\n",
       "      <td>2024-07-05 19:23:31.452000+00:00</td>\n",
       "      <td>2024-07-05 19:23:52.133000+00:00</td>\n",
       "      <td>24216849</td>\n",
       "      <td>769</td>\n",
       "      <td>170607335703</td>\n",
       "      <td>/home/codespace/.cache/pypoetry/virtualenvs/pa...</td>\n",
       "      <td>21505</td>\n",
       "      <td>1</td>\n",
       "      <td>pymalloc</td>\n",
       "      <td>False</td>\n",
       "      <td>False</td>\n",
       "      <td>0</td>\n",
       "      <td>20.681</td>\n",
       "    </tr>\n",
       "    <tr>\n",
       "      <th>0</th>\n",
       "      <td>inner_sorted_join_datasets_byte_stream_split_z...</td>\n",
       "      <td>201501964546</td>\n",
       "      <td>2024-07-05 19:28:40.773000+00:00</td>\n",
       "      <td>2024-07-05 19:29:05.239000+00:00</td>\n",
       "      <td>14761739</td>\n",
       "      <td>773</td>\n",
       "      <td>170913370447</td>\n",
       "      <td>/home/codespace/.cache/pypoetry/virtualenvs/pa...</td>\n",
       "      <td>23984</td>\n",
       "      <td>1</td>\n",
       "      <td>pymalloc</td>\n",
       "      <td>False</td>\n",
       "      <td>False</td>\n",
       "      <td>0</td>\n",
       "      <td>24.466</td>\n",
       "    </tr>\n",
       "    <tr>\n",
       "      <th>0</th>\n",
       "      <td>join_tables.json</td>\n",
       "      <td>177523289405</td>\n",
       "      <td>2024-07-05 19:22:01.402000+00:00</td>\n",
       "      <td>2024-07-05 19:22:18.126000+00:00</td>\n",
       "      <td>17091838</td>\n",
       "      <td>769</td>\n",
       "      <td>170730206103</td>\n",
       "      <td>/home/codespace/.cache/pypoetry/virtualenvs/pa...</td>\n",
       "      <td>20815</td>\n",
       "      <td>1</td>\n",
       "      <td>pymalloc</td>\n",
       "      <td>False</td>\n",
       "      <td>False</td>\n",
       "      <td>0</td>\n",
       "      <td>16.724</td>\n",
       "    </tr>\n",
       "    <tr>\n",
       "      <th>0</th>\n",
       "      <td>inner_sorted_join_datasets_byte_stream_split_l...</td>\n",
       "      <td>181792205441</td>\n",
       "      <td>2024-07-05 19:29:05.858000+00:00</td>\n",
       "      <td>2024-07-05 19:29:28.602000+00:00</td>\n",
       "      <td>15382871</td>\n",
       "      <td>773</td>\n",
       "      <td>170942767439</td>\n",
       "      <td>/home/codespace/.cache/pypoetry/virtualenvs/pa...</td>\n",
       "      <td>24247</td>\n",
       "      <td>1</td>\n",
       "      <td>pymalloc</td>\n",
       "      <td>False</td>\n",
       "      <td>False</td>\n",
       "      <td>0</td>\n",
       "      <td>22.744</td>\n",
       "    </tr>\n",
       "    <tr>\n",
       "      <th>0</th>\n",
       "      <td>join_tables_with_page_index.json</td>\n",
       "      <td>177509932299</td>\n",
       "      <td>2024-07-05 19:21:44.225000+00:00</td>\n",
       "      <td>2024-07-05 19:22:00.776000+00:00</td>\n",
       "      <td>13903374</td>\n",
       "      <td>771</td>\n",
       "      <td>170574235695</td>\n",
       "      <td>/home/codespace/.cache/pypoetry/virtualenvs/pa...</td>\n",
       "      <td>20665</td>\n",
       "      <td>1</td>\n",
       "      <td>pymalloc</td>\n",
       "      <td>False</td>\n",
       "      <td>False</td>\n",
       "      <td>0</td>\n",
       "      <td>16.551</td>\n",
       "    </tr>\n",
       "    <tr>\n",
       "      <th>0</th>\n",
       "      <td>inner_sorted_join_datasets.json</td>\n",
       "      <td>181729887819</td>\n",
       "      <td>2024-07-05 19:27:06.032000+00:00</td>\n",
       "      <td>2024-07-05 19:27:28.957000+00:00</td>\n",
       "      <td>14657479</td>\n",
       "      <td>769</td>\n",
       "      <td>170886024711</td>\n",
       "      <td>/home/codespace/.cache/pypoetry/virtualenvs/pa...</td>\n",
       "      <td>23209</td>\n",
       "      <td>1</td>\n",
       "      <td>pymalloc</td>\n",
       "      <td>False</td>\n",
       "      <td>False</td>\n",
       "      <td>0</td>\n",
       "      <td>22.925</td>\n",
       "    </tr>\n",
       "    <tr>\n",
       "      <th>0</th>\n",
       "      <td>inner_sorted_join_datasets_zstd.json</td>\n",
       "      <td>201116333381</td>\n",
       "      <td>2024-07-05 19:27:29.575000+00:00</td>\n",
       "      <td>2024-07-05 19:27:53.357000+00:00</td>\n",
       "      <td>14934414</td>\n",
       "      <td>769</td>\n",
       "      <td>170856054279</td>\n",
       "      <td>/home/codespace/.cache/pypoetry/virtualenvs/pa...</td>\n",
       "      <td>23422</td>\n",
       "      <td>1</td>\n",
       "      <td>pymalloc</td>\n",
       "      <td>False</td>\n",
       "      <td>False</td>\n",
       "      <td>0</td>\n",
       "      <td>23.782</td>\n",
       "    </tr>\n",
       "    <tr>\n",
       "      <th>0</th>\n",
       "      <td>sorted_join_datasets_byte_stream_split.json</td>\n",
       "      <td>180018725744</td>\n",
       "      <td>2024-07-05 19:25:22.889000+00:00</td>\n",
       "      <td>2024-07-05 19:25:45.031000+00:00</td>\n",
       "      <td>16206396</td>\n",
       "      <td>768</td>\n",
       "      <td>170821257639</td>\n",
       "      <td>/home/codespace/.cache/pypoetry/virtualenvs/pa...</td>\n",
       "      <td>22368</td>\n",
       "      <td>1</td>\n",
       "      <td>pymalloc</td>\n",
       "      <td>False</td>\n",
       "      <td>False</td>\n",
       "      <td>0</td>\n",
       "      <td>22.142</td>\n",
       "    </tr>\n",
       "    <tr>\n",
       "      <th>0</th>\n",
       "      <td>sorted_join_datasets_lz4.json</td>\n",
       "      <td>180084092421</td>\n",
       "      <td>2024-07-05 19:26:42.885000+00:00</td>\n",
       "      <td>2024-07-05 19:27:05.375000+00:00</td>\n",
       "      <td>14705166</td>\n",
       "      <td>768</td>\n",
       "      <td>171064034591</td>\n",
       "      <td>/home/codespace/.cache/pypoetry/virtualenvs/pa...</td>\n",
       "      <td>23009</td>\n",
       "      <td>1</td>\n",
       "      <td>pymalloc</td>\n",
       "      <td>False</td>\n",
       "      <td>False</td>\n",
       "      <td>0</td>\n",
       "      <td>22.490</td>\n",
       "    </tr>\n",
       "  </tbody>\n",
       "</table>\n",
       "</div>"
      ],
      "text/plain": [
       "                                                file  total_bytes_allocated  \\\n",
       "0                          sorted_join_datasets.json           179698990460   \n",
       "0                 join_datasets_with_page_index.json           182127957045   \n",
       "0            sorted_join_tables_with_page_index.json           179759100190   \n",
       "0   sorted_join_datasets_byte_stream_split_zstd.json           199100376899   \n",
       "0     sorted_join_datasets_zstd_with_page_index.json           215363726983   \n",
       "0          sorted_join_datasets_with_page_index.json           183146661653   \n",
       "0                     sorted_join_datasets_zstd.json           199498662439   \n",
       "0                                 join_datasets.json           179160568837   \n",
       "0  inner_sorted_join_datasets_byte_stream_split.json           181788411234   \n",
       "0  sorted_join_datasets_byte_stream_split_zstd_wi...           215622005411   \n",
       "0                inner_sorted_join_datasets_lz4.json           181823339789   \n",
       "0  sorted_join_datasets_byte_stream_split_with_pa...           183663129578   \n",
       "0                            sorted_join_tables.json           179742944163   \n",
       "0  inner_sorted_join_datasets_byte_stream_split_z...           201501964546   \n",
       "0                                   join_tables.json           177523289405   \n",
       "0  inner_sorted_join_datasets_byte_stream_split_l...           181792205441   \n",
       "0                   join_tables_with_page_index.json           177509932299   \n",
       "0                    inner_sorted_join_datasets.json           181729887819   \n",
       "0               inner_sorted_join_datasets_zstd.json           201116333381   \n",
       "0        sorted_join_datasets_byte_stream_split.json           180018725744   \n",
       "0                      sorted_join_datasets_lz4.json           180084092421   \n",
       "\n",
       "                         start_time                          end_time  \\\n",
       "0  2024-07-05 19:22:49.192000+00:00  2024-07-05 19:23:09.420000+00:00   \n",
       "0  2024-07-05 19:20:53.426000+00:00  2024-07-05 19:21:22.243000+00:00   \n",
       "0  2024-07-05 19:23:10.053000+00:00  2024-07-05 19:23:30.627000+00:00   \n",
       "0  2024-07-05 19:24:59.913000+00:00  2024-07-05 19:25:22.248000+00:00   \n",
       "0  2024-07-05 19:25:45.712000+00:00  2024-07-05 19:26:19.379000+00:00   \n",
       "0  2024-07-05 19:22:18.666000+00:00  2024-07-05 19:22:48.497000+00:00   \n",
       "0  2024-07-05 19:26:20.117000+00:00  2024-07-05 19:26:42.262000+00:00   \n",
       "0  2024-07-05 19:21:23.197000+00:00  2024-07-05 19:21:43.652000+00:00   \n",
       "0  2024-07-05 19:28:16.987000+00:00  2024-07-05 19:28:40.081000+00:00   \n",
       "0  2024-07-05 19:24:26.418000+00:00  2024-07-05 19:24:59.156000+00:00   \n",
       "0         2024-07-05 19:27:54+00:00  2024-07-05 19:28:16.235000+00:00   \n",
       "0  2024-07-05 19:23:52.892000+00:00  2024-07-05 19:24:25.582000+00:00   \n",
       "0  2024-07-05 19:23:31.452000+00:00  2024-07-05 19:23:52.133000+00:00   \n",
       "0  2024-07-05 19:28:40.773000+00:00  2024-07-05 19:29:05.239000+00:00   \n",
       "0  2024-07-05 19:22:01.402000+00:00  2024-07-05 19:22:18.126000+00:00   \n",
       "0  2024-07-05 19:29:05.858000+00:00  2024-07-05 19:29:28.602000+00:00   \n",
       "0  2024-07-05 19:21:44.225000+00:00  2024-07-05 19:22:00.776000+00:00   \n",
       "0  2024-07-05 19:27:06.032000+00:00  2024-07-05 19:27:28.957000+00:00   \n",
       "0  2024-07-05 19:27:29.575000+00:00  2024-07-05 19:27:53.357000+00:00   \n",
       "0  2024-07-05 19:25:22.889000+00:00  2024-07-05 19:25:45.031000+00:00   \n",
       "0  2024-07-05 19:26:42.885000+00:00  2024-07-05 19:27:05.375000+00:00   \n",
       "\n",
       "   total_allocations  total_frames   peak_memory  \\\n",
       "0           15126274           769  171014240839   \n",
       "0           19547865           774  171196950499   \n",
       "0           24304681           771  170612537623   \n",
       "0           15332596           774  171122988639   \n",
       "0           20299956           774  171025285707   \n",
       "0           20123899           768  170890117067   \n",
       "0           15720218           770  170973731399   \n",
       "0           15011311           773  170931153887   \n",
       "0           14922796           769  170842680359   \n",
       "0           20518970           774  170924462667   \n",
       "0           14925865           769  170917904719   \n",
       "0           19601019           773  170808894027   \n",
       "0           24216849           769  170607335703   \n",
       "0           14761739           773  170913370447   \n",
       "0           17091838           769  170730206103   \n",
       "0           15382871           773  170942767439   \n",
       "0           13903374           771  170574235695   \n",
       "0           14657479           769  170886024711   \n",
       "0           14934414           769  170856054279   \n",
       "0           16206396           768  170821257639   \n",
       "0           14705166           768  171064034591   \n",
       "\n",
       "                                        command_line    pid  main_thread_id  \\\n",
       "0  /home/codespace/.cache/pypoetry/virtualenvs/pa...  21166               1   \n",
       "0  /home/codespace/.cache/pypoetry/virtualenvs/pa...  20290               1   \n",
       "0  /home/codespace/.cache/pypoetry/virtualenvs/pa...  21331               1   \n",
       "0  /home/codespace/.cache/pypoetry/virtualenvs/pa...  22178               1   \n",
       "0  /home/codespace/.cache/pypoetry/virtualenvs/pa...  22556               1   \n",
       "0  /home/codespace/.cache/pypoetry/virtualenvs/pa...  20943               1   \n",
       "0  /home/codespace/.cache/pypoetry/virtualenvs/pa...  22830               1   \n",
       "0  /home/codespace/.cache/pypoetry/virtualenvs/pa...  20494               1   \n",
       "0  /home/codespace/.cache/pypoetry/virtualenvs/pa...  23769               1   \n",
       "0  /home/codespace/.cache/pypoetry/virtualenvs/pa...  21919               1   \n",
       "0  /home/codespace/.cache/pypoetry/virtualenvs/pa...  23594               1   \n",
       "0  /home/codespace/.cache/pypoetry/virtualenvs/pa...  21686               1   \n",
       "0  /home/codespace/.cache/pypoetry/virtualenvs/pa...  21505               1   \n",
       "0  /home/codespace/.cache/pypoetry/virtualenvs/pa...  23984               1   \n",
       "0  /home/codespace/.cache/pypoetry/virtualenvs/pa...  20815               1   \n",
       "0  /home/codespace/.cache/pypoetry/virtualenvs/pa...  24247               1   \n",
       "0  /home/codespace/.cache/pypoetry/virtualenvs/pa...  20665               1   \n",
       "0  /home/codespace/.cache/pypoetry/virtualenvs/pa...  23209               1   \n",
       "0  /home/codespace/.cache/pypoetry/virtualenvs/pa...  23422               1   \n",
       "0  /home/codespace/.cache/pypoetry/virtualenvs/pa...  22368               1   \n",
       "0  /home/codespace/.cache/pypoetry/virtualenvs/pa...  23009               1   \n",
       "\n",
       "  python_allocator  has_native_traces  trace_python_allocators  file_format  \\\n",
       "0         pymalloc              False                    False            0   \n",
       "0         pymalloc              False                    False            0   \n",
       "0         pymalloc              False                    False            0   \n",
       "0         pymalloc              False                    False            0   \n",
       "0         pymalloc              False                    False            0   \n",
       "0         pymalloc              False                    False            0   \n",
       "0         pymalloc              False                    False            0   \n",
       "0         pymalloc              False                    False            0   \n",
       "0         pymalloc              False                    False            0   \n",
       "0         pymalloc              False                    False            0   \n",
       "0         pymalloc              False                    False            0   \n",
       "0         pymalloc              False                    False            0   \n",
       "0         pymalloc              False                    False            0   \n",
       "0         pymalloc              False                    False            0   \n",
       "0         pymalloc              False                    False            0   \n",
       "0         pymalloc              False                    False            0   \n",
       "0         pymalloc              False                    False            0   \n",
       "0         pymalloc              False                    False            0   \n",
       "0         pymalloc              False                    False            0   \n",
       "0         pymalloc              False                    False            0   \n",
       "0         pymalloc              False                    False            0   \n",
       "\n",
       "   time_duration  \n",
       "0         20.228  \n",
       "0         28.817  \n",
       "0         20.574  \n",
       "0         22.335  \n",
       "0         33.667  \n",
       "0         29.831  \n",
       "0         22.145  \n",
       "0         20.455  \n",
       "0         23.094  \n",
       "0         32.738  \n",
       "0            NaN  \n",
       "0         32.690  \n",
       "0         20.681  \n",
       "0         24.466  \n",
       "0         16.724  \n",
       "0         22.744  \n",
       "0         16.551  \n",
       "0         22.925  \n",
       "0         23.782  \n",
       "0         22.142  \n",
       "0         22.490  "
      ]
     },
     "execution_count": 5,
     "metadata": {},
     "output_type": "execute_result"
    }
   ],
   "source": [
    "import pandas as pd\n",
    "import plotly.express as px\n",
    "import pathlib\n",
    "import json\n",
    "\n",
    "# Path to the JSON file\n",
    "file_path = \"/workspaces/parquet-duckdb-benchmarks/sorted_join_datasets_byte_stream_split_with_page_index.json\"\n",
    "\n",
    "concat_list = []\n",
    "for file_path in pathlib.Path(\"../..\").glob(\"*.json\"):\n",
    "    # Load the JSON data from the file\n",
    "    with open(file_path, \"r\") as file:\n",
    "        data = json.load(file)\n",
    "\n",
    "\n",
    "    concat_list.append(\n",
    "        pd.DataFrame(\n",
    "            dict(\n",
    "                {\"file\": pathlib.Path(file_path).name},\n",
    "                **{\"total_bytes_allocated\": data.get(\"total_bytes_allocated\")},\n",
    "                **{key: [val] for key, val in data.get(\"metadata\").items()}\n",
    "            )\n",
    "        )\n",
    "    )\n",
    "\n",
    "df = pd.concat(concat_list)\n",
    "df[\"time_duration\"] = (pd.to_datetime(\n",
    "    df[\"end_time\"], errors='coerce'\n",
    ") - pd.to_datetime(\n",
    "    df[\"start_time\"], errors='coerce'\n",
    ")).dt.total_seconds()\n",
    "df\n"
   ]
  },
  {
   "cell_type": "code",
   "execution_count": 8,
   "metadata": {},
   "outputs": [
    {
     "data": {
      "application/vnd.plotly.v1+json": {
       "config": {
        "plotlyServerURL": "https://plot.ly"
       },
       "data": [
        {
         "hovertemplate": "<b>%{hovertext}</b><br><br>total_bytes_allocated=%{x}<br>time_duration=%{y}<extra></extra>",
         "hovertext": [
          "sorted_join_datasets.json",
          "join_datasets_with_page_index.json",
          "sorted_join_tables_with_page_index.json",
          "sorted_join_datasets_byte_stream_split_zstd.json",
          "sorted_join_datasets_zstd_with_page_index.json",
          "sorted_join_datasets_with_page_index.json",
          "sorted_join_datasets_zstd.json",
          "join_datasets.json",
          "inner_sorted_join_datasets_byte_stream_split.json",
          "sorted_join_datasets_byte_stream_split_zstd_with_page_index.json",
          "inner_sorted_join_datasets_lz4.json",
          "sorted_join_datasets_byte_stream_split_with_page_index.json",
          "sorted_join_tables.json",
          "inner_sorted_join_datasets_byte_stream_split_zstd.json",
          "join_tables.json",
          "inner_sorted_join_datasets_byte_stream_split_lz4.json",
          "join_tables_with_page_index.json",
          "inner_sorted_join_datasets.json",
          "inner_sorted_join_datasets_zstd.json",
          "sorted_join_datasets_byte_stream_split.json",
          "sorted_join_datasets_lz4.json"
         ],
         "legendgroup": "",
         "marker": {
          "color": "#636efa",
          "symbol": "circle"
         },
         "mode": "markers",
         "name": "",
         "orientation": "v",
         "showlegend": false,
         "type": "scatter",
         "x": [
          179698990460,
          182127957045,
          179759100190,
          199100376899,
          215363726983,
          183146661653,
          199498662439,
          179160568837,
          181788411234,
          215622005411,
          181823339789,
          183663129578,
          179742944163,
          201501964546,
          177523289405,
          181792205441,
          177509932299,
          181729887819,
          201116333381,
          180018725744,
          180084092421
         ],
         "xaxis": "x",
         "y": [
          20.228,
          28.817,
          20.574,
          22.335,
          33.667,
          29.831,
          22.145,
          20.455,
          23.094,
          32.738,
          null,
          32.69,
          20.681,
          24.466,
          16.724,
          22.744,
          16.551,
          22.925,
          23.782,
          22.142,
          22.49
         ],
         "yaxis": "y"
        }
       ],
       "layout": {
        "legend": {
         "tracegroupgap": 0
        },
        "template": {
         "data": {
          "bar": [
           {
            "error_x": {
             "color": "#2a3f5f"
            },
            "error_y": {
             "color": "#2a3f5f"
            },
            "marker": {
             "line": {
              "color": "#E5ECF6",
              "width": 0.5
             },
             "pattern": {
              "fillmode": "overlay",
              "size": 10,
              "solidity": 0.2
             }
            },
            "type": "bar"
           }
          ],
          "barpolar": [
           {
            "marker": {
             "line": {
              "color": "#E5ECF6",
              "width": 0.5
             },
             "pattern": {
              "fillmode": "overlay",
              "size": 10,
              "solidity": 0.2
             }
            },
            "type": "barpolar"
           }
          ],
          "carpet": [
           {
            "aaxis": {
             "endlinecolor": "#2a3f5f",
             "gridcolor": "white",
             "linecolor": "white",
             "minorgridcolor": "white",
             "startlinecolor": "#2a3f5f"
            },
            "baxis": {
             "endlinecolor": "#2a3f5f",
             "gridcolor": "white",
             "linecolor": "white",
             "minorgridcolor": "white",
             "startlinecolor": "#2a3f5f"
            },
            "type": "carpet"
           }
          ],
          "choropleth": [
           {
            "colorbar": {
             "outlinewidth": 0,
             "ticks": ""
            },
            "type": "choropleth"
           }
          ],
          "contour": [
           {
            "colorbar": {
             "outlinewidth": 0,
             "ticks": ""
            },
            "colorscale": [
             [
              0,
              "#0d0887"
             ],
             [
              0.1111111111111111,
              "#46039f"
             ],
             [
              0.2222222222222222,
              "#7201a8"
             ],
             [
              0.3333333333333333,
              "#9c179e"
             ],
             [
              0.4444444444444444,
              "#bd3786"
             ],
             [
              0.5555555555555556,
              "#d8576b"
             ],
             [
              0.6666666666666666,
              "#ed7953"
             ],
             [
              0.7777777777777778,
              "#fb9f3a"
             ],
             [
              0.8888888888888888,
              "#fdca26"
             ],
             [
              1,
              "#f0f921"
             ]
            ],
            "type": "contour"
           }
          ],
          "contourcarpet": [
           {
            "colorbar": {
             "outlinewidth": 0,
             "ticks": ""
            },
            "type": "contourcarpet"
           }
          ],
          "heatmap": [
           {
            "colorbar": {
             "outlinewidth": 0,
             "ticks": ""
            },
            "colorscale": [
             [
              0,
              "#0d0887"
             ],
             [
              0.1111111111111111,
              "#46039f"
             ],
             [
              0.2222222222222222,
              "#7201a8"
             ],
             [
              0.3333333333333333,
              "#9c179e"
             ],
             [
              0.4444444444444444,
              "#bd3786"
             ],
             [
              0.5555555555555556,
              "#d8576b"
             ],
             [
              0.6666666666666666,
              "#ed7953"
             ],
             [
              0.7777777777777778,
              "#fb9f3a"
             ],
             [
              0.8888888888888888,
              "#fdca26"
             ],
             [
              1,
              "#f0f921"
             ]
            ],
            "type": "heatmap"
           }
          ],
          "heatmapgl": [
           {
            "colorbar": {
             "outlinewidth": 0,
             "ticks": ""
            },
            "colorscale": [
             [
              0,
              "#0d0887"
             ],
             [
              0.1111111111111111,
              "#46039f"
             ],
             [
              0.2222222222222222,
              "#7201a8"
             ],
             [
              0.3333333333333333,
              "#9c179e"
             ],
             [
              0.4444444444444444,
              "#bd3786"
             ],
             [
              0.5555555555555556,
              "#d8576b"
             ],
             [
              0.6666666666666666,
              "#ed7953"
             ],
             [
              0.7777777777777778,
              "#fb9f3a"
             ],
             [
              0.8888888888888888,
              "#fdca26"
             ],
             [
              1,
              "#f0f921"
             ]
            ],
            "type": "heatmapgl"
           }
          ],
          "histogram": [
           {
            "marker": {
             "pattern": {
              "fillmode": "overlay",
              "size": 10,
              "solidity": 0.2
             }
            },
            "type": "histogram"
           }
          ],
          "histogram2d": [
           {
            "colorbar": {
             "outlinewidth": 0,
             "ticks": ""
            },
            "colorscale": [
             [
              0,
              "#0d0887"
             ],
             [
              0.1111111111111111,
              "#46039f"
             ],
             [
              0.2222222222222222,
              "#7201a8"
             ],
             [
              0.3333333333333333,
              "#9c179e"
             ],
             [
              0.4444444444444444,
              "#bd3786"
             ],
             [
              0.5555555555555556,
              "#d8576b"
             ],
             [
              0.6666666666666666,
              "#ed7953"
             ],
             [
              0.7777777777777778,
              "#fb9f3a"
             ],
             [
              0.8888888888888888,
              "#fdca26"
             ],
             [
              1,
              "#f0f921"
             ]
            ],
            "type": "histogram2d"
           }
          ],
          "histogram2dcontour": [
           {
            "colorbar": {
             "outlinewidth": 0,
             "ticks": ""
            },
            "colorscale": [
             [
              0,
              "#0d0887"
             ],
             [
              0.1111111111111111,
              "#46039f"
             ],
             [
              0.2222222222222222,
              "#7201a8"
             ],
             [
              0.3333333333333333,
              "#9c179e"
             ],
             [
              0.4444444444444444,
              "#bd3786"
             ],
             [
              0.5555555555555556,
              "#d8576b"
             ],
             [
              0.6666666666666666,
              "#ed7953"
             ],
             [
              0.7777777777777778,
              "#fb9f3a"
             ],
             [
              0.8888888888888888,
              "#fdca26"
             ],
             [
              1,
              "#f0f921"
             ]
            ],
            "type": "histogram2dcontour"
           }
          ],
          "mesh3d": [
           {
            "colorbar": {
             "outlinewidth": 0,
             "ticks": ""
            },
            "type": "mesh3d"
           }
          ],
          "parcoords": [
           {
            "line": {
             "colorbar": {
              "outlinewidth": 0,
              "ticks": ""
             }
            },
            "type": "parcoords"
           }
          ],
          "pie": [
           {
            "automargin": true,
            "type": "pie"
           }
          ],
          "scatter": [
           {
            "fillpattern": {
             "fillmode": "overlay",
             "size": 10,
             "solidity": 0.2
            },
            "type": "scatter"
           }
          ],
          "scatter3d": [
           {
            "line": {
             "colorbar": {
              "outlinewidth": 0,
              "ticks": ""
             }
            },
            "marker": {
             "colorbar": {
              "outlinewidth": 0,
              "ticks": ""
             }
            },
            "type": "scatter3d"
           }
          ],
          "scattercarpet": [
           {
            "marker": {
             "colorbar": {
              "outlinewidth": 0,
              "ticks": ""
             }
            },
            "type": "scattercarpet"
           }
          ],
          "scattergeo": [
           {
            "marker": {
             "colorbar": {
              "outlinewidth": 0,
              "ticks": ""
             }
            },
            "type": "scattergeo"
           }
          ],
          "scattergl": [
           {
            "marker": {
             "colorbar": {
              "outlinewidth": 0,
              "ticks": ""
             }
            },
            "type": "scattergl"
           }
          ],
          "scattermapbox": [
           {
            "marker": {
             "colorbar": {
              "outlinewidth": 0,
              "ticks": ""
             }
            },
            "type": "scattermapbox"
           }
          ],
          "scatterpolar": [
           {
            "marker": {
             "colorbar": {
              "outlinewidth": 0,
              "ticks": ""
             }
            },
            "type": "scatterpolar"
           }
          ],
          "scatterpolargl": [
           {
            "marker": {
             "colorbar": {
              "outlinewidth": 0,
              "ticks": ""
             }
            },
            "type": "scatterpolargl"
           }
          ],
          "scatterternary": [
           {
            "marker": {
             "colorbar": {
              "outlinewidth": 0,
              "ticks": ""
             }
            },
            "type": "scatterternary"
           }
          ],
          "surface": [
           {
            "colorbar": {
             "outlinewidth": 0,
             "ticks": ""
            },
            "colorscale": [
             [
              0,
              "#0d0887"
             ],
             [
              0.1111111111111111,
              "#46039f"
             ],
             [
              0.2222222222222222,
              "#7201a8"
             ],
             [
              0.3333333333333333,
              "#9c179e"
             ],
             [
              0.4444444444444444,
              "#bd3786"
             ],
             [
              0.5555555555555556,
              "#d8576b"
             ],
             [
              0.6666666666666666,
              "#ed7953"
             ],
             [
              0.7777777777777778,
              "#fb9f3a"
             ],
             [
              0.8888888888888888,
              "#fdca26"
             ],
             [
              1,
              "#f0f921"
             ]
            ],
            "type": "surface"
           }
          ],
          "table": [
           {
            "cells": {
             "fill": {
              "color": "#EBF0F8"
             },
             "line": {
              "color": "white"
             }
            },
            "header": {
             "fill": {
              "color": "#C8D4E3"
             },
             "line": {
              "color": "white"
             }
            },
            "type": "table"
           }
          ]
         },
         "layout": {
          "annotationdefaults": {
           "arrowcolor": "#2a3f5f",
           "arrowhead": 0,
           "arrowwidth": 1
          },
          "autotypenumbers": "strict",
          "coloraxis": {
           "colorbar": {
            "outlinewidth": 0,
            "ticks": ""
           }
          },
          "colorscale": {
           "diverging": [
            [
             0,
             "#8e0152"
            ],
            [
             0.1,
             "#c51b7d"
            ],
            [
             0.2,
             "#de77ae"
            ],
            [
             0.3,
             "#f1b6da"
            ],
            [
             0.4,
             "#fde0ef"
            ],
            [
             0.5,
             "#f7f7f7"
            ],
            [
             0.6,
             "#e6f5d0"
            ],
            [
             0.7,
             "#b8e186"
            ],
            [
             0.8,
             "#7fbc41"
            ],
            [
             0.9,
             "#4d9221"
            ],
            [
             1,
             "#276419"
            ]
           ],
           "sequential": [
            [
             0,
             "#0d0887"
            ],
            [
             0.1111111111111111,
             "#46039f"
            ],
            [
             0.2222222222222222,
             "#7201a8"
            ],
            [
             0.3333333333333333,
             "#9c179e"
            ],
            [
             0.4444444444444444,
             "#bd3786"
            ],
            [
             0.5555555555555556,
             "#d8576b"
            ],
            [
             0.6666666666666666,
             "#ed7953"
            ],
            [
             0.7777777777777778,
             "#fb9f3a"
            ],
            [
             0.8888888888888888,
             "#fdca26"
            ],
            [
             1,
             "#f0f921"
            ]
           ],
           "sequentialminus": [
            [
             0,
             "#0d0887"
            ],
            [
             0.1111111111111111,
             "#46039f"
            ],
            [
             0.2222222222222222,
             "#7201a8"
            ],
            [
             0.3333333333333333,
             "#9c179e"
            ],
            [
             0.4444444444444444,
             "#bd3786"
            ],
            [
             0.5555555555555556,
             "#d8576b"
            ],
            [
             0.6666666666666666,
             "#ed7953"
            ],
            [
             0.7777777777777778,
             "#fb9f3a"
            ],
            [
             0.8888888888888888,
             "#fdca26"
            ],
            [
             1,
             "#f0f921"
            ]
           ]
          },
          "colorway": [
           "#636efa",
           "#EF553B",
           "#00cc96",
           "#ab63fa",
           "#FFA15A",
           "#19d3f3",
           "#FF6692",
           "#B6E880",
           "#FF97FF",
           "#FECB52"
          ],
          "font": {
           "color": "#2a3f5f"
          },
          "geo": {
           "bgcolor": "white",
           "lakecolor": "white",
           "landcolor": "#E5ECF6",
           "showlakes": true,
           "showland": true,
           "subunitcolor": "white"
          },
          "hoverlabel": {
           "align": "left"
          },
          "hovermode": "closest",
          "mapbox": {
           "style": "light"
          },
          "paper_bgcolor": "white",
          "plot_bgcolor": "#E5ECF6",
          "polar": {
           "angularaxis": {
            "gridcolor": "white",
            "linecolor": "white",
            "ticks": ""
           },
           "bgcolor": "#E5ECF6",
           "radialaxis": {
            "gridcolor": "white",
            "linecolor": "white",
            "ticks": ""
           }
          },
          "scene": {
           "xaxis": {
            "backgroundcolor": "#E5ECF6",
            "gridcolor": "white",
            "gridwidth": 2,
            "linecolor": "white",
            "showbackground": true,
            "ticks": "",
            "zerolinecolor": "white"
           },
           "yaxis": {
            "backgroundcolor": "#E5ECF6",
            "gridcolor": "white",
            "gridwidth": 2,
            "linecolor": "white",
            "showbackground": true,
            "ticks": "",
            "zerolinecolor": "white"
           },
           "zaxis": {
            "backgroundcolor": "#E5ECF6",
            "gridcolor": "white",
            "gridwidth": 2,
            "linecolor": "white",
            "showbackground": true,
            "ticks": "",
            "zerolinecolor": "white"
           }
          },
          "shapedefaults": {
           "line": {
            "color": "#2a3f5f"
           }
          },
          "ternary": {
           "aaxis": {
            "gridcolor": "white",
            "linecolor": "white",
            "ticks": ""
           },
           "baxis": {
            "gridcolor": "white",
            "linecolor": "white",
            "ticks": ""
           },
           "bgcolor": "#E5ECF6",
           "caxis": {
            "gridcolor": "white",
            "linecolor": "white",
            "ticks": ""
           }
          },
          "title": {
           "x": 0.05
          },
          "xaxis": {
           "automargin": true,
           "gridcolor": "white",
           "linecolor": "white",
           "ticks": "",
           "title": {
            "standoff": 15
           },
           "zerolinecolor": "white",
           "zerolinewidth": 2
          },
          "yaxis": {
           "automargin": true,
           "gridcolor": "white",
           "linecolor": "white",
           "ticks": "",
           "title": {
            "standoff": 15
           },
           "zerolinecolor": "white",
           "zerolinewidth": 2
          }
         }
        },
        "title": {
         "text": "Memory and Time Scatter"
        },
        "xaxis": {
         "anchor": "y",
         "domain": [
          0,
          1
         ],
         "title": {
          "text": "total_bytes_allocated"
         }
        },
        "yaxis": {
         "anchor": "x",
         "domain": [
          0,
          1
         ],
         "title": {
          "text": "time_duration"
         }
        }
       }
      },
      "text/html": [
       "<div>                            <div id=\"c36ee7ca-e3be-410b-9f89-a0df8f13b65b\" class=\"plotly-graph-div\" style=\"height:525px; width:100%;\"></div>            <script type=\"text/javascript\">                require([\"plotly\"], function(Plotly) {                    window.PLOTLYENV=window.PLOTLYENV || {};                                    if (document.getElementById(\"c36ee7ca-e3be-410b-9f89-a0df8f13b65b\")) {                    Plotly.newPlot(                        \"c36ee7ca-e3be-410b-9f89-a0df8f13b65b\",                        [{\"hovertemplate\":\"\\u003cb\\u003e%{hovertext}\\u003c\\u002fb\\u003e\\u003cbr\\u003e\\u003cbr\\u003etotal_bytes_allocated=%{x}\\u003cbr\\u003etime_duration=%{y}\\u003cextra\\u003e\\u003c\\u002fextra\\u003e\",\"hovertext\":[\"sorted_join_datasets.json\",\"join_datasets_with_page_index.json\",\"sorted_join_tables_with_page_index.json\",\"sorted_join_datasets_byte_stream_split_zstd.json\",\"sorted_join_datasets_zstd_with_page_index.json\",\"sorted_join_datasets_with_page_index.json\",\"sorted_join_datasets_zstd.json\",\"join_datasets.json\",\"inner_sorted_join_datasets_byte_stream_split.json\",\"sorted_join_datasets_byte_stream_split_zstd_with_page_index.json\",\"inner_sorted_join_datasets_lz4.json\",\"sorted_join_datasets_byte_stream_split_with_page_index.json\",\"sorted_join_tables.json\",\"inner_sorted_join_datasets_byte_stream_split_zstd.json\",\"join_tables.json\",\"inner_sorted_join_datasets_byte_stream_split_lz4.json\",\"join_tables_with_page_index.json\",\"inner_sorted_join_datasets.json\",\"inner_sorted_join_datasets_zstd.json\",\"sorted_join_datasets_byte_stream_split.json\",\"sorted_join_datasets_lz4.json\"],\"legendgroup\":\"\",\"marker\":{\"color\":\"#636efa\",\"symbol\":\"circle\"},\"mode\":\"markers\",\"name\":\"\",\"orientation\":\"v\",\"showlegend\":false,\"x\":[179698990460,182127957045,179759100190,199100376899,215363726983,183146661653,199498662439,179160568837,181788411234,215622005411,181823339789,183663129578,179742944163,201501964546,177523289405,181792205441,177509932299,181729887819,201116333381,180018725744,180084092421],\"xaxis\":\"x\",\"y\":[20.228,28.817,20.574,22.335,33.667,29.831,22.145,20.455,23.094,32.738,null,32.69,20.681,24.466,16.724,22.744,16.551,22.925,23.782,22.142,22.49],\"yaxis\":\"y\",\"type\":\"scatter\"}],                        {\"template\":{\"data\":{\"histogram2dcontour\":[{\"type\":\"histogram2dcontour\",\"colorbar\":{\"outlinewidth\":0,\"ticks\":\"\"},\"colorscale\":[[0.0,\"#0d0887\"],[0.1111111111111111,\"#46039f\"],[0.2222222222222222,\"#7201a8\"],[0.3333333333333333,\"#9c179e\"],[0.4444444444444444,\"#bd3786\"],[0.5555555555555556,\"#d8576b\"],[0.6666666666666666,\"#ed7953\"],[0.7777777777777778,\"#fb9f3a\"],[0.8888888888888888,\"#fdca26\"],[1.0,\"#f0f921\"]]}],\"choropleth\":[{\"type\":\"choropleth\",\"colorbar\":{\"outlinewidth\":0,\"ticks\":\"\"}}],\"histogram2d\":[{\"type\":\"histogram2d\",\"colorbar\":{\"outlinewidth\":0,\"ticks\":\"\"},\"colorscale\":[[0.0,\"#0d0887\"],[0.1111111111111111,\"#46039f\"],[0.2222222222222222,\"#7201a8\"],[0.3333333333333333,\"#9c179e\"],[0.4444444444444444,\"#bd3786\"],[0.5555555555555556,\"#d8576b\"],[0.6666666666666666,\"#ed7953\"],[0.7777777777777778,\"#fb9f3a\"],[0.8888888888888888,\"#fdca26\"],[1.0,\"#f0f921\"]]}],\"heatmap\":[{\"type\":\"heatmap\",\"colorbar\":{\"outlinewidth\":0,\"ticks\":\"\"},\"colorscale\":[[0.0,\"#0d0887\"],[0.1111111111111111,\"#46039f\"],[0.2222222222222222,\"#7201a8\"],[0.3333333333333333,\"#9c179e\"],[0.4444444444444444,\"#bd3786\"],[0.5555555555555556,\"#d8576b\"],[0.6666666666666666,\"#ed7953\"],[0.7777777777777778,\"#fb9f3a\"],[0.8888888888888888,\"#fdca26\"],[1.0,\"#f0f921\"]]}],\"heatmapgl\":[{\"type\":\"heatmapgl\",\"colorbar\":{\"outlinewidth\":0,\"ticks\":\"\"},\"colorscale\":[[0.0,\"#0d0887\"],[0.1111111111111111,\"#46039f\"],[0.2222222222222222,\"#7201a8\"],[0.3333333333333333,\"#9c179e\"],[0.4444444444444444,\"#bd3786\"],[0.5555555555555556,\"#d8576b\"],[0.6666666666666666,\"#ed7953\"],[0.7777777777777778,\"#fb9f3a\"],[0.8888888888888888,\"#fdca26\"],[1.0,\"#f0f921\"]]}],\"contourcarpet\":[{\"type\":\"contourcarpet\",\"colorbar\":{\"outlinewidth\":0,\"ticks\":\"\"}}],\"contour\":[{\"type\":\"contour\",\"colorbar\":{\"outlinewidth\":0,\"ticks\":\"\"},\"colorscale\":[[0.0,\"#0d0887\"],[0.1111111111111111,\"#46039f\"],[0.2222222222222222,\"#7201a8\"],[0.3333333333333333,\"#9c179e\"],[0.4444444444444444,\"#bd3786\"],[0.5555555555555556,\"#d8576b\"],[0.6666666666666666,\"#ed7953\"],[0.7777777777777778,\"#fb9f3a\"],[0.8888888888888888,\"#fdca26\"],[1.0,\"#f0f921\"]]}],\"surface\":[{\"type\":\"surface\",\"colorbar\":{\"outlinewidth\":0,\"ticks\":\"\"},\"colorscale\":[[0.0,\"#0d0887\"],[0.1111111111111111,\"#46039f\"],[0.2222222222222222,\"#7201a8\"],[0.3333333333333333,\"#9c179e\"],[0.4444444444444444,\"#bd3786\"],[0.5555555555555556,\"#d8576b\"],[0.6666666666666666,\"#ed7953\"],[0.7777777777777778,\"#fb9f3a\"],[0.8888888888888888,\"#fdca26\"],[1.0,\"#f0f921\"]]}],\"mesh3d\":[{\"type\":\"mesh3d\",\"colorbar\":{\"outlinewidth\":0,\"ticks\":\"\"}}],\"scatter\":[{\"fillpattern\":{\"fillmode\":\"overlay\",\"size\":10,\"solidity\":0.2},\"type\":\"scatter\"}],\"parcoords\":[{\"type\":\"parcoords\",\"line\":{\"colorbar\":{\"outlinewidth\":0,\"ticks\":\"\"}}}],\"scatterpolargl\":[{\"type\":\"scatterpolargl\",\"marker\":{\"colorbar\":{\"outlinewidth\":0,\"ticks\":\"\"}}}],\"bar\":[{\"error_x\":{\"color\":\"#2a3f5f\"},\"error_y\":{\"color\":\"#2a3f5f\"},\"marker\":{\"line\":{\"color\":\"#E5ECF6\",\"width\":0.5},\"pattern\":{\"fillmode\":\"overlay\",\"size\":10,\"solidity\":0.2}},\"type\":\"bar\"}],\"scattergeo\":[{\"type\":\"scattergeo\",\"marker\":{\"colorbar\":{\"outlinewidth\":0,\"ticks\":\"\"}}}],\"scatterpolar\":[{\"type\":\"scatterpolar\",\"marker\":{\"colorbar\":{\"outlinewidth\":0,\"ticks\":\"\"}}}],\"histogram\":[{\"marker\":{\"pattern\":{\"fillmode\":\"overlay\",\"size\":10,\"solidity\":0.2}},\"type\":\"histogram\"}],\"scattergl\":[{\"type\":\"scattergl\",\"marker\":{\"colorbar\":{\"outlinewidth\":0,\"ticks\":\"\"}}}],\"scatter3d\":[{\"type\":\"scatter3d\",\"line\":{\"colorbar\":{\"outlinewidth\":0,\"ticks\":\"\"}},\"marker\":{\"colorbar\":{\"outlinewidth\":0,\"ticks\":\"\"}}}],\"scattermapbox\":[{\"type\":\"scattermapbox\",\"marker\":{\"colorbar\":{\"outlinewidth\":0,\"ticks\":\"\"}}}],\"scatterternary\":[{\"type\":\"scatterternary\",\"marker\":{\"colorbar\":{\"outlinewidth\":0,\"ticks\":\"\"}}}],\"scattercarpet\":[{\"type\":\"scattercarpet\",\"marker\":{\"colorbar\":{\"outlinewidth\":0,\"ticks\":\"\"}}}],\"carpet\":[{\"aaxis\":{\"endlinecolor\":\"#2a3f5f\",\"gridcolor\":\"white\",\"linecolor\":\"white\",\"minorgridcolor\":\"white\",\"startlinecolor\":\"#2a3f5f\"},\"baxis\":{\"endlinecolor\":\"#2a3f5f\",\"gridcolor\":\"white\",\"linecolor\":\"white\",\"minorgridcolor\":\"white\",\"startlinecolor\":\"#2a3f5f\"},\"type\":\"carpet\"}],\"table\":[{\"cells\":{\"fill\":{\"color\":\"#EBF0F8\"},\"line\":{\"color\":\"white\"}},\"header\":{\"fill\":{\"color\":\"#C8D4E3\"},\"line\":{\"color\":\"white\"}},\"type\":\"table\"}],\"barpolar\":[{\"marker\":{\"line\":{\"color\":\"#E5ECF6\",\"width\":0.5},\"pattern\":{\"fillmode\":\"overlay\",\"size\":10,\"solidity\":0.2}},\"type\":\"barpolar\"}],\"pie\":[{\"automargin\":true,\"type\":\"pie\"}]},\"layout\":{\"autotypenumbers\":\"strict\",\"colorway\":[\"#636efa\",\"#EF553B\",\"#00cc96\",\"#ab63fa\",\"#FFA15A\",\"#19d3f3\",\"#FF6692\",\"#B6E880\",\"#FF97FF\",\"#FECB52\"],\"font\":{\"color\":\"#2a3f5f\"},\"hovermode\":\"closest\",\"hoverlabel\":{\"align\":\"left\"},\"paper_bgcolor\":\"white\",\"plot_bgcolor\":\"#E5ECF6\",\"polar\":{\"bgcolor\":\"#E5ECF6\",\"angularaxis\":{\"gridcolor\":\"white\",\"linecolor\":\"white\",\"ticks\":\"\"},\"radialaxis\":{\"gridcolor\":\"white\",\"linecolor\":\"white\",\"ticks\":\"\"}},\"ternary\":{\"bgcolor\":\"#E5ECF6\",\"aaxis\":{\"gridcolor\":\"white\",\"linecolor\":\"white\",\"ticks\":\"\"},\"baxis\":{\"gridcolor\":\"white\",\"linecolor\":\"white\",\"ticks\":\"\"},\"caxis\":{\"gridcolor\":\"white\",\"linecolor\":\"white\",\"ticks\":\"\"}},\"coloraxis\":{\"colorbar\":{\"outlinewidth\":0,\"ticks\":\"\"}},\"colorscale\":{\"sequential\":[[0.0,\"#0d0887\"],[0.1111111111111111,\"#46039f\"],[0.2222222222222222,\"#7201a8\"],[0.3333333333333333,\"#9c179e\"],[0.4444444444444444,\"#bd3786\"],[0.5555555555555556,\"#d8576b\"],[0.6666666666666666,\"#ed7953\"],[0.7777777777777778,\"#fb9f3a\"],[0.8888888888888888,\"#fdca26\"],[1.0,\"#f0f921\"]],\"sequentialminus\":[[0.0,\"#0d0887\"],[0.1111111111111111,\"#46039f\"],[0.2222222222222222,\"#7201a8\"],[0.3333333333333333,\"#9c179e\"],[0.4444444444444444,\"#bd3786\"],[0.5555555555555556,\"#d8576b\"],[0.6666666666666666,\"#ed7953\"],[0.7777777777777778,\"#fb9f3a\"],[0.8888888888888888,\"#fdca26\"],[1.0,\"#f0f921\"]],\"diverging\":[[0,\"#8e0152\"],[0.1,\"#c51b7d\"],[0.2,\"#de77ae\"],[0.3,\"#f1b6da\"],[0.4,\"#fde0ef\"],[0.5,\"#f7f7f7\"],[0.6,\"#e6f5d0\"],[0.7,\"#b8e186\"],[0.8,\"#7fbc41\"],[0.9,\"#4d9221\"],[1,\"#276419\"]]},\"xaxis\":{\"gridcolor\":\"white\",\"linecolor\":\"white\",\"ticks\":\"\",\"title\":{\"standoff\":15},\"zerolinecolor\":\"white\",\"automargin\":true,\"zerolinewidth\":2},\"yaxis\":{\"gridcolor\":\"white\",\"linecolor\":\"white\",\"ticks\":\"\",\"title\":{\"standoff\":15},\"zerolinecolor\":\"white\",\"automargin\":true,\"zerolinewidth\":2},\"scene\":{\"xaxis\":{\"backgroundcolor\":\"#E5ECF6\",\"gridcolor\":\"white\",\"linecolor\":\"white\",\"showbackground\":true,\"ticks\":\"\",\"zerolinecolor\":\"white\",\"gridwidth\":2},\"yaxis\":{\"backgroundcolor\":\"#E5ECF6\",\"gridcolor\":\"white\",\"linecolor\":\"white\",\"showbackground\":true,\"ticks\":\"\",\"zerolinecolor\":\"white\",\"gridwidth\":2},\"zaxis\":{\"backgroundcolor\":\"#E5ECF6\",\"gridcolor\":\"white\",\"linecolor\":\"white\",\"showbackground\":true,\"ticks\":\"\",\"zerolinecolor\":\"white\",\"gridwidth\":2}},\"shapedefaults\":{\"line\":{\"color\":\"#2a3f5f\"}},\"annotationdefaults\":{\"arrowcolor\":\"#2a3f5f\",\"arrowhead\":0,\"arrowwidth\":1},\"geo\":{\"bgcolor\":\"white\",\"landcolor\":\"#E5ECF6\",\"subunitcolor\":\"white\",\"showland\":true,\"showlakes\":true,\"lakecolor\":\"white\"},\"title\":{\"x\":0.05},\"mapbox\":{\"style\":\"light\"}}},\"xaxis\":{\"anchor\":\"y\",\"domain\":[0.0,1.0],\"title\":{\"text\":\"total_bytes_allocated\"}},\"yaxis\":{\"anchor\":\"x\",\"domain\":[0.0,1.0],\"title\":{\"text\":\"time_duration\"}},\"legend\":{\"tracegroupgap\":0},\"title\":{\"text\":\"Memory and Time Scatter\"}},                        {\"responsive\": true}                    ).then(function(){\n",
       "                            \n",
       "var gd = document.getElementById('c36ee7ca-e3be-410b-9f89-a0df8f13b65b');\n",
       "var x = new MutationObserver(function (mutations, observer) {{\n",
       "        var display = window.getComputedStyle(gd).display;\n",
       "        if (!display || display === 'none') {{\n",
       "            console.log([gd, 'removed!']);\n",
       "            Plotly.purge(gd);\n",
       "            observer.disconnect();\n",
       "        }}\n",
       "}});\n",
       "\n",
       "// Listen for the removal of the full notebook cells\n",
       "var notebookContainer = gd.closest('#notebook-container');\n",
       "if (notebookContainer) {{\n",
       "    x.observe(notebookContainer, {childList: true});\n",
       "}}\n",
       "\n",
       "// Listen for the clearing of the current output cell\n",
       "var outputEl = gd.closest('.output');\n",
       "if (outputEl) {{\n",
       "    x.observe(outputEl, {childList: true});\n",
       "}}\n",
       "\n",
       "                        })                };                });            </script>        </div>"
      ]
     },
     "metadata": {},
     "output_type": "display_data"
    }
   ],
   "source": [
    "# Create a scatter plot\n",
    "fig = px.scatter(df, x='total_bytes_allocated', y='time_duration', title='Memory and Time Scatter', hover_name=\"file\")\n",
    "\n",
    "# Show the plot\n",
    "fig.show()\n"
   ]
  }
 ],
 "metadata": {
  "kernelspec": {
   "display_name": "parquet-duckdb-benchamrking-uqNuO172-py3.12",
   "language": "python",
   "name": "python3"
  },
  "language_info": {
   "codemirror_mode": {
    "name": "ipython",
    "version": 3
   },
   "file_extension": ".py",
   "mimetype": "text/x-python",
   "name": "python",
   "nbconvert_exporter": "python",
   "pygments_lexer": "ipython3",
   "version": "3.12.3"
  }
 },
 "nbformat": 4,
 "nbformat_minor": 2
}
